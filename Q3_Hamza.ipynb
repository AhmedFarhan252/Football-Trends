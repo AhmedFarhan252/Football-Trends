{
 "cells": [
  {
   "cell_type": "markdown",
   "metadata": {},
   "source": [
    "### Importing Libraries\n",
    "---------------------------\n"
   ]
  },
  {
   "cell_type": "code",
   "execution_count": 2,
   "metadata": {},
   "outputs": [
    {
     "data": {
      "text/html": [
       "<div>\n",
       "<style scoped>\n",
       "    .dataframe tbody tr th:only-of-type {\n",
       "        vertical-align: middle;\n",
       "    }\n",
       "\n",
       "    .dataframe tbody tr th {\n",
       "        vertical-align: top;\n",
       "    }\n",
       "\n",
       "    .dataframe thead th {\n",
       "        text-align: right;\n",
       "    }\n",
       "</style>\n",
       "<table border=\"1\" class=\"dataframe\">\n",
       "  <thead>\n",
       "    <tr style=\"text-align: right;\">\n",
       "      <th></th>\n",
       "      <th>Year</th>\n",
       "      <th>Winner</th>\n",
       "      <th>Runners-Up</th>\n",
       "      <th>Third</th>\n",
       "      <th>Fourth</th>\n",
       "    </tr>\n",
       "  </thead>\n",
       "  <tbody>\n",
       "    <tr>\n",
       "      <th>0</th>\n",
       "      <td>1930</td>\n",
       "      <td>Uruguay</td>\n",
       "      <td>Argentina</td>\n",
       "      <td>USA</td>\n",
       "      <td>Yugoslavia</td>\n",
       "    </tr>\n",
       "    <tr>\n",
       "      <th>1</th>\n",
       "      <td>1934</td>\n",
       "      <td>Italy</td>\n",
       "      <td>Czechoslovakia</td>\n",
       "      <td>Germany</td>\n",
       "      <td>Austria</td>\n",
       "    </tr>\n",
       "    <tr>\n",
       "      <th>2</th>\n",
       "      <td>1938</td>\n",
       "      <td>Italy</td>\n",
       "      <td>Hungary</td>\n",
       "      <td>Brazil</td>\n",
       "      <td>Sweden</td>\n",
       "    </tr>\n",
       "    <tr>\n",
       "      <th>3</th>\n",
       "      <td>1950</td>\n",
       "      <td>Uruguay</td>\n",
       "      <td>Brazil</td>\n",
       "      <td>Sweden</td>\n",
       "      <td>Spain</td>\n",
       "    </tr>\n",
       "    <tr>\n",
       "      <th>4</th>\n",
       "      <td>1954</td>\n",
       "      <td>Germany</td>\n",
       "      <td>Hungary</td>\n",
       "      <td>Austria</td>\n",
       "      <td>Uruguay</td>\n",
       "    </tr>\n",
       "  </tbody>\n",
       "</table>\n",
       "</div>"
      ],
      "text/plain": [
       "   Year   Winner      Runners-Up    Third      Fourth\n",
       "0  1930  Uruguay       Argentina      USA  Yugoslavia\n",
       "1  1934    Italy  Czechoslovakia  Germany     Austria\n",
       "2  1938    Italy         Hungary   Brazil      Sweden\n",
       "3  1950  Uruguay          Brazil   Sweden       Spain\n",
       "4  1954  Germany         Hungary  Austria     Uruguay"
      ]
     },
     "execution_count": 2,
     "metadata": {},
     "output_type": "execute_result"
    }
   ],
   "source": [
    "import numpy as np\n",
    "import pandas as pd\n",
    "import matplotlib.pyplot as plt\n",
    "%matplotlib inline\n",
    "import seaborn as sns\n",
    "sns.set()\n",
    "\n",
    "#Loading data\n",
    "df = pd.read_pickle('World Cup Results.pkl')\n",
    "df.head()\n",
    "#df.shape"
   ]
  },
  {
   "cell_type": "markdown",
   "metadata": {},
   "source": [
    "## Which Countries are the most consistent at the highest levels?"
   ]
  },
  {
   "cell_type": "markdown",
   "metadata": {},
   "source": [
    "We will judge this by awarding each team points based on their finishing position in each world cup. \n",
    "A winner gets 5 points, runners-up gets 3 points, third gets 2 points, and fourth gets 1 point."
   ]
  },
  {
   "cell_type": "code",
   "execution_count": 51,
   "metadata": {},
   "outputs": [
    {
     "data": {
      "image/png": "[encoded data removed]",
      "text/plain": [
       "<Figure size 432x288 with 1 Axes>"
      ]
     },
     "metadata": {
      "needs_background": "light"
     },
     "output_type": "display_data"
    }
   ],
   "source": [
    "score_dict = {}\n",
    "for winner in df['Winner'].iteritems():\n",
    "    if (winner[1] in score_dict):\n",
    "        score_dict[winner[1]] += 5\n",
    "    else:\n",
    "        score_dict[winner[1]] = 5\n",
    "        \n",
    "for r_up in df['Runners-Up'].iteritems():\n",
    "    if (r_up[1] in score_dict):\n",
    "        score_dict[r_up[1]] += 3\n",
    "    else:\n",
    "        score_dict[r_up[1]] = 3\n",
    "        \n",
    "for third in df['Third'].iteritems():\n",
    "    if (third[1] in score_dict):\n",
    "        score_dict[third[1]] += 2\n",
    "    else:\n",
    "        score_dict[third[1]] = 2\n",
    "    \n",
    "for fourth in df['Fourth'].iteritems():\n",
    "    if (fourth[1] in score_dict):\n",
    "        score_dict[fourth[1]] += 1\n",
    "    else:\n",
    "        score_dict[fourth[1]] = 1\n",
    "    \n",
    "country_li = []\n",
    "score_li = []\n",
    "\n",
    "for (k,v) in score_dict.items():\n",
    "    country_li.append(k)\n",
    "    score_li.append(v)\n",
    "    \n",
    "cons_df = pd.DataFrame({\n",
    "    'Country' : country_li,\n",
    "    'Score': score_li\n",
    "})\n",
    "cons_df = cons_df.head(10).sort_values(by=\"Score\",ascending=False)\n",
    "\n",
    "cont_plt = sns.barplot(x=\"Country\", y=\"Score\", data = cons_df)\n",
    "cont_plt.set_title(\"Top 10 consistent countries\")\n",
    "cont_plt.set_xlabel(\"Country\")\n",
    "cont_plt.set_ylabel(\"Country Score\")\n",
    "_ = cont_plt.set_xticklabels(cont_plt.get_xticklabels(), fontsize=12,rotation=40, ha=\"right\")"
   ]
  }
 ],
 "metadata": {
  "kernelspec": {
   "display_name": "Python 3",
   "language": "python",
   "name": "python3"
  },
  "language_info": {
   "codemirror_mode": {
    "name": "ipython",
    "version": 3
   },
   "file_extension": ".py",
   "mimetype": "text/x-python",
   "name": "python",
   "nbconvert_exporter": "python",
   "pygments_lexer": "ipython3",
   "version": "3.8.5"
  },
  "varInspector": {
   "cols": {
    "lenName": 16,
    "lenType": 16,
    "lenVar": 40
   },
   "kernels_config": {
    "python": {
     "delete_cmd_postfix": "",
     "delete_cmd_prefix": "del ",
     "library": "var_list.py",
     "varRefreshCmd": "print(var_dic_list())"
    },
    "r": {
     "delete_cmd_postfix": ") ",
     "delete_cmd_prefix": "rm(",
     "library": "var_list.r",
     "varRefreshCmd": "cat(var_dic_list()) "
    }
   },
   "types_to_exclude": [
    "module",
    "function",
    "builtin_function_or_method",
    "instance",
    "_Feature"
   ],
   "window_display": false
  }
 },
 "nbformat": 4,
 "nbformat_minor": 2
}
