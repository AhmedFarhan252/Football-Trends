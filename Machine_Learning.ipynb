{
 "cells": [
  {
   "cell_type": "code",
   "execution_count": 466,
   "metadata": {},
   "outputs": [],
   "source": [
    "import numpy as np\n",
    "import pandas as pd\n",
    "from scipy import stats\n",
    "from pandas.api.types import CategoricalDtype\n",
    "import matplotlib.pyplot as plt\n",
    "%matplotlib inline\n",
    "import seaborn as sns\n",
    "sns.set()\n",
    "from sklearn.linear_model import LogisticRegressionCV\n",
    "from sklearn.model_selection import train_test_split\n",
    "from sklearn.metrics import accuracy_score"
   ]
  },
  {
   "cell_type": "code",
   "execution_count": 467,
   "metadata": {},
   "outputs": [
    {
     "data": {
      "text/plain": [
       "(40945, 7)"
      ]
     },
     "execution_count": 467,
     "metadata": {},
     "output_type": "execute_result"
    }
   ],
   "source": [
    "df = pd.read_pickle('International_Results.pkl')\n",
    "df.shape"
   ]
  },
  {
   "cell_type": "markdown",
   "metadata": {},
   "source": [
    "### Extracting the world cup 2018 Data"
   ]
  },
  {
   "cell_type": "code",
   "execution_count": 468,
   "metadata": {},
   "outputs": [],
   "source": [
    "wc_2018 = df[df['tournament'] == 'FIFA World Cup']"
   ]
  },
  {
   "cell_type": "code",
   "execution_count": 469,
   "metadata": {},
   "outputs": [],
   "source": [
    "wc_2018 = wc_2018[wc_2018['date'].dt.year == 2018]"
   ]
  },
  {
   "cell_type": "markdown",
   "metadata": {},
   "source": [
    "List of unique teams in 2018 world cup.\n",
    "We will use this to filter our original dataset to only show results of these teams."
   ]
  },
  {
   "cell_type": "code",
   "execution_count": 470,
   "metadata": {},
   "outputs": [
    {
     "name": "stdout",
     "output_type": "stream",
     "text": [
      "32\n"
     ]
    }
   ],
   "source": [
    "li = []\n",
    "for x in wc_2018['home_team'].unique():\n",
    "    li.append(x)\n",
    "    \n",
    "for x in wc_2018['away_team'].unique():\n",
    "    if (x not in li):\n",
    "        li.append(x)\n",
    "\n",
    "print(len(li))"
   ]
  },
  {
   "cell_type": "code",
   "execution_count": 471,
   "metadata": {},
   "outputs": [
    {
     "data": {
      "text/html": [
       "<div>\n",
       "<style scoped>\n",
       "    .dataframe tbody tr th:only-of-type {\n",
       "        vertical-align: middle;\n",
       "    }\n",
       "\n",
       "    .dataframe tbody tr th {\n",
       "        vertical-align: top;\n",
       "    }\n",
       "\n",
       "    .dataframe thead th {\n",
       "        text-align: right;\n",
       "    }\n",
       "</style>\n",
       "<table border=\"1\" class=\"dataframe\">\n",
       "  <thead>\n",
       "    <tr style=\"text-align: right;\">\n",
       "      <th></th>\n",
       "      <th>date</th>\n",
       "      <th>home_team</th>\n",
       "      <th>away_team</th>\n",
       "      <th>home_score</th>\n",
       "      <th>away_score</th>\n",
       "      <th>tournament</th>\n",
       "      <th>neutral</th>\n",
       "    </tr>\n",
       "  </thead>\n",
       "  <tbody>\n",
       "    <tr>\n",
       "      <th>39861</th>\n",
       "      <td>2018-06-14</td>\n",
       "      <td>Russia</td>\n",
       "      <td>Saudi Arabia</td>\n",
       "      <td>5</td>\n",
       "      <td>0</td>\n",
       "      <td>FIFA World Cup</td>\n",
       "      <td>False</td>\n",
       "    </tr>\n",
       "    <tr>\n",
       "      <th>39862</th>\n",
       "      <td>2018-06-15</td>\n",
       "      <td>Egypt</td>\n",
       "      <td>Uruguay</td>\n",
       "      <td>0</td>\n",
       "      <td>1</td>\n",
       "      <td>FIFA World Cup</td>\n",
       "      <td>True</td>\n",
       "    </tr>\n",
       "    <tr>\n",
       "      <th>39863</th>\n",
       "      <td>2018-06-15</td>\n",
       "      <td>Morocco</td>\n",
       "      <td>Iran</td>\n",
       "      <td>0</td>\n",
       "      <td>1</td>\n",
       "      <td>FIFA World Cup</td>\n",
       "      <td>True</td>\n",
       "    </tr>\n",
       "    <tr>\n",
       "      <th>39864</th>\n",
       "      <td>2018-06-15</td>\n",
       "      <td>Portugal</td>\n",
       "      <td>Spain</td>\n",
       "      <td>3</td>\n",
       "      <td>3</td>\n",
       "      <td>FIFA World Cup</td>\n",
       "      <td>True</td>\n",
       "    </tr>\n",
       "    <tr>\n",
       "      <th>39865</th>\n",
       "      <td>2018-06-16</td>\n",
       "      <td>France</td>\n",
       "      <td>Australia</td>\n",
       "      <td>2</td>\n",
       "      <td>1</td>\n",
       "      <td>FIFA World Cup</td>\n",
       "      <td>True</td>\n",
       "    </tr>\n",
       "  </tbody>\n",
       "</table>\n",
       "</div>"
      ],
      "text/plain": [
       "            date home_team     away_team  home_score  away_score  \\\n",
       "39861 2018-06-14    Russia  Saudi Arabia           5           0   \n",
       "39862 2018-06-15     Egypt       Uruguay           0           1   \n",
       "39863 2018-06-15   Morocco          Iran           0           1   \n",
       "39864 2018-06-15  Portugal         Spain           3           3   \n",
       "39865 2018-06-16    France     Australia           2           1   \n",
       "\n",
       "           tournament  neutral  \n",
       "39861  FIFA World Cup    False  \n",
       "39862  FIFA World Cup     True  \n",
       "39863  FIFA World Cup     True  \n",
       "39864  FIFA World Cup     True  \n",
       "39865  FIFA World Cup     True  "
      ]
     },
     "execution_count": 471,
     "metadata": {},
     "output_type": "execute_result"
    }
   ],
   "source": [
    "wc_2018.head()"
   ]
  },
  {
   "cell_type": "markdown",
   "metadata": {},
   "source": [
    "### Filter features dataset"
   ]
  },
  {
   "cell_type": "markdown",
   "metadata": {},
   "source": [
    "We will now filter our original data set to only have the results of the teams participating in 2018 world cup and to exclude results from 2018."
   ]
  },
  {
   "cell_type": "markdown",
   "metadata": {},
   "source": [
    "We will also exclude friendlies since friendlies are not played with as much seriousness or high intensity compared to other tournaments. This is because there are little to no rewards for winning friendly matches."
   ]
  },
  {
   "cell_type": "code",
   "execution_count": 472,
   "metadata": {},
   "outputs": [
    {
     "data": {
      "text/html": [
       "<div>\n",
       "<style scoped>\n",
       "    .dataframe tbody tr th:only-of-type {\n",
       "        vertical-align: middle;\n",
       "    }\n",
       "\n",
       "    .dataframe tbody tr th {\n",
       "        vertical-align: top;\n",
       "    }\n",
       "\n",
       "    .dataframe thead th {\n",
       "        text-align: right;\n",
       "    }\n",
       "</style>\n",
       "<table border=\"1\" class=\"dataframe\">\n",
       "  <thead>\n",
       "    <tr style=\"text-align: right;\">\n",
       "      <th></th>\n",
       "      <th>date</th>\n",
       "      <th>home_team</th>\n",
       "      <th>away_team</th>\n",
       "      <th>home_score</th>\n",
       "      <th>away_score</th>\n",
       "      <th>tournament</th>\n",
       "      <th>neutral</th>\n",
       "    </tr>\n",
       "  </thead>\n",
       "  <tbody>\n",
       "    <tr>\n",
       "      <th>18667</th>\n",
       "      <td>1995-01-06</td>\n",
       "      <td>Japan</td>\n",
       "      <td>Nigeria</td>\n",
       "      <td>0</td>\n",
       "      <td>3</td>\n",
       "      <td>Confederations Cup</td>\n",
       "      <td>True</td>\n",
       "    </tr>\n",
       "    <tr>\n",
       "      <th>18668</th>\n",
       "      <td>1995-01-06</td>\n",
       "      <td>Saudi Arabia</td>\n",
       "      <td>Mexico</td>\n",
       "      <td>0</td>\n",
       "      <td>2</td>\n",
       "      <td>Confederations Cup</td>\n",
       "      <td>False</td>\n",
       "    </tr>\n",
       "    <tr>\n",
       "      <th>18669</th>\n",
       "      <td>1995-01-07</td>\n",
       "      <td>Senegal</td>\n",
       "      <td>Tunisia</td>\n",
       "      <td>0</td>\n",
       "      <td>0</td>\n",
       "      <td>African Cup of Nations qualification</td>\n",
       "      <td>False</td>\n",
       "    </tr>\n",
       "    <tr>\n",
       "      <th>18677</th>\n",
       "      <td>1995-01-08</td>\n",
       "      <td>Japan</td>\n",
       "      <td>Argentina</td>\n",
       "      <td>1</td>\n",
       "      <td>5</td>\n",
       "      <td>Confederations Cup</td>\n",
       "      <td>True</td>\n",
       "    </tr>\n",
       "    <tr>\n",
       "      <th>18678</th>\n",
       "      <td>1995-01-08</td>\n",
       "      <td>Saudi Arabia</td>\n",
       "      <td>Denmark</td>\n",
       "      <td>0</td>\n",
       "      <td>2</td>\n",
       "      <td>Confederations Cup</td>\n",
       "      <td>False</td>\n",
       "    </tr>\n",
       "  </tbody>\n",
       "</table>\n",
       "</div>"
      ],
      "text/plain": [
       "            date     home_team  away_team  home_score  away_score  \\\n",
       "18667 1995-01-06         Japan    Nigeria           0           3   \n",
       "18668 1995-01-06  Saudi Arabia     Mexico           0           2   \n",
       "18669 1995-01-07       Senegal    Tunisia           0           0   \n",
       "18677 1995-01-08         Japan  Argentina           1           5   \n",
       "18678 1995-01-08  Saudi Arabia    Denmark           0           2   \n",
       "\n",
       "                                 tournament  neutral  \n",
       "18667                    Confederations Cup     True  \n",
       "18668                    Confederations Cup    False  \n",
       "18669  African Cup of Nations qualification    False  \n",
       "18677                    Confederations Cup     True  \n",
       "18678                    Confederations Cup    False  "
      ]
     },
     "execution_count": 472,
     "metadata": {},
     "output_type": "execute_result"
    }
   ],
   "source": [
    "trainDF = df[df['date'].dt.year < 2018]\n",
    "trainDF = trainDF[trainDF['date'].dt.year >= 1995]\n",
    "trainDF = trainDF[trainDF['tournament'] != 'Friendly']\n",
    "trainDF = trainDF[trainDF['home_team'].isin(li) | trainDF['away_team'].isin(li)]\n",
    "trainDF.head()"
   ]
  },
  {
   "cell_type": "markdown",
   "metadata": {},
   "source": [
    "We will now add a home_result column which tells us if the home team won , draw or lost."
   ]
  },
  {
   "cell_type": "code",
   "execution_count": 473,
   "metadata": {},
   "outputs": [
    {
     "data": {
      "text/html": [
       "<div>\n",
       "<style scoped>\n",
       "    .dataframe tbody tr th:only-of-type {\n",
       "        vertical-align: middle;\n",
       "    }\n",
       "\n",
       "    .dataframe tbody tr th {\n",
       "        vertical-align: top;\n",
       "    }\n",
       "\n",
       "    .dataframe thead th {\n",
       "        text-align: right;\n",
       "    }\n",
       "</style>\n",
       "<table border=\"1\" class=\"dataframe\">\n",
       "  <thead>\n",
       "    <tr style=\"text-align: right;\">\n",
       "      <th></th>\n",
       "      <th>date</th>\n",
       "      <th>home_team</th>\n",
       "      <th>away_team</th>\n",
       "      <th>home_score</th>\n",
       "      <th>away_score</th>\n",
       "      <th>tournament</th>\n",
       "      <th>neutral</th>\n",
       "      <th>home_result</th>\n",
       "    </tr>\n",
       "  </thead>\n",
       "  <tbody>\n",
       "    <tr>\n",
       "      <th>18667</th>\n",
       "      <td>1995-01-06</td>\n",
       "      <td>Japan</td>\n",
       "      <td>Nigeria</td>\n",
       "      <td>0</td>\n",
       "      <td>3</td>\n",
       "      <td>Confederations Cup</td>\n",
       "      <td>True</td>\n",
       "      <td>-1</td>\n",
       "    </tr>\n",
       "    <tr>\n",
       "      <th>18668</th>\n",
       "      <td>1995-01-06</td>\n",
       "      <td>Saudi Arabia</td>\n",
       "      <td>Mexico</td>\n",
       "      <td>0</td>\n",
       "      <td>2</td>\n",
       "      <td>Confederations Cup</td>\n",
       "      <td>False</td>\n",
       "      <td>-1</td>\n",
       "    </tr>\n",
       "    <tr>\n",
       "      <th>18669</th>\n",
       "      <td>1995-01-07</td>\n",
       "      <td>Senegal</td>\n",
       "      <td>Tunisia</td>\n",
       "      <td>0</td>\n",
       "      <td>0</td>\n",
       "      <td>African Cup of Nations qualification</td>\n",
       "      <td>False</td>\n",
       "      <td>0</td>\n",
       "    </tr>\n",
       "    <tr>\n",
       "      <th>18677</th>\n",
       "      <td>1995-01-08</td>\n",
       "      <td>Japan</td>\n",
       "      <td>Argentina</td>\n",
       "      <td>1</td>\n",
       "      <td>5</td>\n",
       "      <td>Confederations Cup</td>\n",
       "      <td>True</td>\n",
       "      <td>-1</td>\n",
       "    </tr>\n",
       "    <tr>\n",
       "      <th>18678</th>\n",
       "      <td>1995-01-08</td>\n",
       "      <td>Saudi Arabia</td>\n",
       "      <td>Denmark</td>\n",
       "      <td>0</td>\n",
       "      <td>2</td>\n",
       "      <td>Confederations Cup</td>\n",
       "      <td>False</td>\n",
       "      <td>-1</td>\n",
       "    </tr>\n",
       "  </tbody>\n",
       "</table>\n",
       "</div>"
      ],
      "text/plain": [
       "            date     home_team  away_team  home_score  away_score  \\\n",
       "18667 1995-01-06         Japan    Nigeria           0           3   \n",
       "18668 1995-01-06  Saudi Arabia     Mexico           0           2   \n",
       "18669 1995-01-07       Senegal    Tunisia           0           0   \n",
       "18677 1995-01-08         Japan  Argentina           1           5   \n",
       "18678 1995-01-08  Saudi Arabia    Denmark           0           2   \n",
       "\n",
       "                                 tournament  neutral home_result  \n",
       "18667                    Confederations Cup     True          -1  \n",
       "18668                    Confederations Cup    False          -1  \n",
       "18669  African Cup of Nations qualification    False           0  \n",
       "18677                    Confederations Cup     True          -1  \n",
       "18678                    Confederations Cup    False          -1  "
      ]
     },
     "execution_count": 473,
     "metadata": {},
     "output_type": "execute_result"
    }
   ],
   "source": [
    "cnd = [trainDF['home_score'] == trainDF['away_score'],trainDF['home_score'] < trainDF['away_score'],trainDF['home_score'] > trainDF['away_score']]\n",
    "choice = [0,-1,1]\n",
    "trainDF['home_result'] = np.select(cnd,choice,default='Exception')\n",
    "trainDF.head()"
   ]
  },
  {
   "cell_type": "code",
   "execution_count": 474,
   "metadata": {},
   "outputs": [],
   "source": [
    "trainDF['year'] = trainDF['date'].dt.year"
   ]
  },
  {
   "cell_type": "code",
   "execution_count": 475,
   "metadata": {},
   "outputs": [
    {
     "data": {
      "text/html": [
       "<div>\n",
       "<style scoped>\n",
       "    .dataframe tbody tr th:only-of-type {\n",
       "        vertical-align: middle;\n",
       "    }\n",
       "\n",
       "    .dataframe tbody tr th {\n",
       "        vertical-align: top;\n",
       "    }\n",
       "\n",
       "    .dataframe thead th {\n",
       "        text-align: right;\n",
       "    }\n",
       "</style>\n",
       "<table border=\"1\" class=\"dataframe\">\n",
       "  <thead>\n",
       "    <tr style=\"text-align: right;\">\n",
       "      <th></th>\n",
       "      <th>home_team</th>\n",
       "      <th>away_team</th>\n",
       "      <th>neutral</th>\n",
       "      <th>home_result</th>\n",
       "      <th>year</th>\n",
       "    </tr>\n",
       "  </thead>\n",
       "  <tbody>\n",
       "    <tr>\n",
       "      <th>18667</th>\n",
       "      <td>Japan</td>\n",
       "      <td>Nigeria</td>\n",
       "      <td>True</td>\n",
       "      <td>-1</td>\n",
       "      <td>1995</td>\n",
       "    </tr>\n",
       "    <tr>\n",
       "      <th>18668</th>\n",
       "      <td>Saudi Arabia</td>\n",
       "      <td>Mexico</td>\n",
       "      <td>False</td>\n",
       "      <td>-1</td>\n",
       "      <td>1995</td>\n",
       "    </tr>\n",
       "    <tr>\n",
       "      <th>18669</th>\n",
       "      <td>Senegal</td>\n",
       "      <td>Tunisia</td>\n",
       "      <td>False</td>\n",
       "      <td>0</td>\n",
       "      <td>1995</td>\n",
       "    </tr>\n",
       "    <tr>\n",
       "      <th>18677</th>\n",
       "      <td>Japan</td>\n",
       "      <td>Argentina</td>\n",
       "      <td>True</td>\n",
       "      <td>-1</td>\n",
       "      <td>1995</td>\n",
       "    </tr>\n",
       "    <tr>\n",
       "      <th>18678</th>\n",
       "      <td>Saudi Arabia</td>\n",
       "      <td>Denmark</td>\n",
       "      <td>False</td>\n",
       "      <td>-1</td>\n",
       "      <td>1995</td>\n",
       "    </tr>\n",
       "    <tr>\n",
       "      <th>...</th>\n",
       "      <td>...</td>\n",
       "      <td>...</td>\n",
       "      <td>...</td>\n",
       "      <td>...</td>\n",
       "      <td>...</td>\n",
       "    </tr>\n",
       "    <tr>\n",
       "      <th>39458</th>\n",
       "      <td>Japan</td>\n",
       "      <td>North Korea</td>\n",
       "      <td>False</td>\n",
       "      <td>1</td>\n",
       "      <td>2017</td>\n",
       "    </tr>\n",
       "    <tr>\n",
       "      <th>39460</th>\n",
       "      <td>South Korea</td>\n",
       "      <td>China PR</td>\n",
       "      <td>True</td>\n",
       "      <td>0</td>\n",
       "      <td>2017</td>\n",
       "    </tr>\n",
       "    <tr>\n",
       "      <th>39469</th>\n",
       "      <td>Japan</td>\n",
       "      <td>China PR</td>\n",
       "      <td>False</td>\n",
       "      <td>1</td>\n",
       "      <td>2017</td>\n",
       "    </tr>\n",
       "    <tr>\n",
       "      <th>39470</th>\n",
       "      <td>North Korea</td>\n",
       "      <td>South Korea</td>\n",
       "      <td>True</td>\n",
       "      <td>-1</td>\n",
       "      <td>2017</td>\n",
       "    </tr>\n",
       "    <tr>\n",
       "      <th>39478</th>\n",
       "      <td>Japan</td>\n",
       "      <td>South Korea</td>\n",
       "      <td>False</td>\n",
       "      <td>-1</td>\n",
       "      <td>2017</td>\n",
       "    </tr>\n",
       "  </tbody>\n",
       "</table>\n",
       "<p>4594 rows × 5 columns</p>\n",
       "</div>"
      ],
      "text/plain": [
       "          home_team    away_team  neutral home_result  year\n",
       "18667         Japan      Nigeria     True          -1  1995\n",
       "18668  Saudi Arabia       Mexico    False          -1  1995\n",
       "18669       Senegal      Tunisia    False           0  1995\n",
       "18677         Japan    Argentina     True          -1  1995\n",
       "18678  Saudi Arabia      Denmark    False          -1  1995\n",
       "...             ...          ...      ...         ...   ...\n",
       "39458         Japan  North Korea    False           1  2017\n",
       "39460   South Korea     China PR     True           0  2017\n",
       "39469         Japan     China PR    False           1  2017\n",
       "39470   North Korea  South Korea     True          -1  2017\n",
       "39478         Japan  South Korea    False          -1  2017\n",
       "\n",
       "[4594 rows x 5 columns]"
      ]
     },
     "execution_count": 475,
     "metadata": {},
     "output_type": "execute_result"
    }
   ],
   "source": [
    "trainDF = trainDF.iloc[:,[1,2,6,7,8]]\n",
    "trainDF"
   ]
  },
  {
   "cell_type": "code",
   "execution_count": 476,
   "metadata": {},
   "outputs": [],
   "source": [
    "mia = [\"Martinique\",\"Guadeloupe\",'Burma','Sao Tome and Principe','Eswatini','East Timor','Brunei','French Guiana']\n",
    "trainDF = trainDF[~trainDF['home_team'].isin(mia)]\n",
    "trainDF = trainDF[~trainDF['away_team'].isin(mia)]"
   ]
  },
  {
   "cell_type": "markdown",
   "metadata": {},
   "source": [
    "### Adding Fifa ranking feature to our dataset"
   ]
  },
  {
   "cell_type": "code",
   "execution_count": 477,
   "metadata": {},
   "outputs": [],
   "source": [
    "rank = pd.read_csv('fifa_ranking.csv')"
   ]
  },
  {
   "cell_type": "code",
   "execution_count": 478,
   "metadata": {},
   "outputs": [
    {
     "data": {
      "text/html": [
       "<div>\n",
       "<style scoped>\n",
       "    .dataframe tbody tr th:only-of-type {\n",
       "        vertical-align: middle;\n",
       "    }\n",
       "\n",
       "    .dataframe tbody tr th {\n",
       "        vertical-align: top;\n",
       "    }\n",
       "\n",
       "    .dataframe thead th {\n",
       "        text-align: right;\n",
       "    }\n",
       "</style>\n",
       "<table border=\"1\" class=\"dataframe\">\n",
       "  <thead>\n",
       "    <tr style=\"text-align: right;\">\n",
       "      <th></th>\n",
       "      <th>rank</th>\n",
       "      <th>country_full</th>\n",
       "      <th>rank_date</th>\n",
       "    </tr>\n",
       "  </thead>\n",
       "  <tbody>\n",
       "    <tr>\n",
       "      <th>0</th>\n",
       "      <td>1</td>\n",
       "      <td>Germany</td>\n",
       "      <td>1993-08-08</td>\n",
       "    </tr>\n",
       "    <tr>\n",
       "      <th>1</th>\n",
       "      <td>2</td>\n",
       "      <td>Italy</td>\n",
       "      <td>1993-08-08</td>\n",
       "    </tr>\n",
       "    <tr>\n",
       "      <th>2</th>\n",
       "      <td>3</td>\n",
       "      <td>Switzerland</td>\n",
       "      <td>1993-08-08</td>\n",
       "    </tr>\n",
       "    <tr>\n",
       "      <th>3</th>\n",
       "      <td>4</td>\n",
       "      <td>Sweden</td>\n",
       "      <td>1993-08-08</td>\n",
       "    </tr>\n",
       "    <tr>\n",
       "      <th>4</th>\n",
       "      <td>5</td>\n",
       "      <td>Argentina</td>\n",
       "      <td>1993-08-08</td>\n",
       "    </tr>\n",
       "    <tr>\n",
       "      <th>...</th>\n",
       "      <td>...</td>\n",
       "      <td>...</td>\n",
       "      <td>...</td>\n",
       "    </tr>\n",
       "    <tr>\n",
       "      <th>57788</th>\n",
       "      <td>206</td>\n",
       "      <td>Anguilla</td>\n",
       "      <td>2018-06-07</td>\n",
       "    </tr>\n",
       "    <tr>\n",
       "      <th>57789</th>\n",
       "      <td>206</td>\n",
       "      <td>Bahamas</td>\n",
       "      <td>2018-06-07</td>\n",
       "    </tr>\n",
       "    <tr>\n",
       "      <th>57790</th>\n",
       "      <td>206</td>\n",
       "      <td>Eritrea</td>\n",
       "      <td>2018-06-07</td>\n",
       "    </tr>\n",
       "    <tr>\n",
       "      <th>57791</th>\n",
       "      <td>206</td>\n",
       "      <td>Somalia</td>\n",
       "      <td>2018-06-07</td>\n",
       "    </tr>\n",
       "    <tr>\n",
       "      <th>57792</th>\n",
       "      <td>206</td>\n",
       "      <td>Tonga</td>\n",
       "      <td>2018-06-07</td>\n",
       "    </tr>\n",
       "  </tbody>\n",
       "</table>\n",
       "<p>57793 rows × 3 columns</p>\n",
       "</div>"
      ],
      "text/plain": [
       "       rank country_full   rank_date\n",
       "0         1      Germany  1993-08-08\n",
       "1         2        Italy  1993-08-08\n",
       "2         3  Switzerland  1993-08-08\n",
       "3         4       Sweden  1993-08-08\n",
       "4         5    Argentina  1993-08-08\n",
       "...     ...          ...         ...\n",
       "57788   206     Anguilla  2018-06-07\n",
       "57789   206      Bahamas  2018-06-07\n",
       "57790   206      Eritrea  2018-06-07\n",
       "57791   206      Somalia  2018-06-07\n",
       "57792   206        Tonga  2018-06-07\n",
       "\n",
       "[57793 rows x 3 columns]"
      ]
     },
     "execution_count": 478,
     "metadata": {},
     "output_type": "execute_result"
    }
   ],
   "source": [
    "tmp = rank.iloc[:,[0,1,15]]\n",
    "tmp"
   ]
  },
  {
   "cell_type": "code",
   "execution_count": 479,
   "metadata": {},
   "outputs": [
    {
     "name": "stderr",
     "output_type": "stream",
     "text": [
      "/home/ediot/anaconda3/lib/python3.7/site-packages/ipykernel_launcher.py:1: SettingWithCopyWarning: \n",
      "A value is trying to be set on a copy of a slice from a DataFrame.\n",
      "Try using .loc[row_indexer,col_indexer] = value instead\n",
      "\n",
      "See the caveats in the documentation: http://pandas.pydata.org/pandas-docs/stable/user_guide/indexing.html#returning-a-view-versus-a-copy\n",
      "  \"\"\"Entry point for launching an IPython kernel.\n"
     ]
    }
   ],
   "source": [
    "tmp['year'] = tmp['rank_date'].str.split('-').str[0]\n",
    "tmp = tmp.iloc[:,[0,1,3]]"
   ]
  },
  {
   "cell_type": "code",
   "execution_count": 480,
   "metadata": {},
   "outputs": [
    {
     "name": "stderr",
     "output_type": "stream",
     "text": [
      "/home/ediot/anaconda3/lib/python3.7/site-packages/ipykernel_launcher.py:1: SettingWithCopyWarning: \n",
      "A value is trying to be set on a copy of a slice from a DataFrame.\n",
      "Try using .loc[row_indexer,col_indexer] = value instead\n",
      "\n",
      "See the caveats in the documentation: http://pandas.pydata.org/pandas-docs/stable/user_guide/indexing.html#returning-a-view-versus-a-copy\n",
      "  \"\"\"Entry point for launching an IPython kernel.\n"
     ]
    }
   ],
   "source": [
    "tmp['year'] = tmp['year'].astype('int')"
   ]
  },
  {
   "cell_type": "code",
   "execution_count": 481,
   "metadata": {},
   "outputs": [],
   "source": [
    "tmp = tmp.replace('IR Iran','Iran',)\n",
    "tmp = tmp.replace('Curaçao','Curacao')\n",
    "tmp = tmp.replace(to_replace='St ',value=\"Saint \",regex = True)\n",
    "tmp = tmp.replace('Korea Republic','South Korea')\n",
    "tmp = tmp.replace('Côte d\\'Ivoire','Ivory Coast')\n",
    "tmp = tmp.replace('USA','United States')\n",
    "tmp = tmp.replace('Korea DPR','North Korea')\n",
    "tmp = tmp.replace('Congo DR','DR Congo')\n",
    "tmp = tmp.replace('FYR Macedonia','North Macedonia')\n",
    "tmp = tmp.replace('Kyrgyz Republic','Kyrgyzstan')\n",
    "tmp = tmp.replace('Kyrgyz Republic','Kyrgyzstan')\n",
    "tmp = tmp.replace('Cape Verde Islands','Cape Verde')"
   ]
  },
  {
   "cell_type": "code",
   "execution_count": 482,
   "metadata": {},
   "outputs": [
    {
     "data": {
      "text/html": [
       "<div>\n",
       "<style scoped>\n",
       "    .dataframe tbody tr th:only-of-type {\n",
       "        vertical-align: middle;\n",
       "    }\n",
       "\n",
       "    .dataframe tbody tr th {\n",
       "        vertical-align: top;\n",
       "    }\n",
       "\n",
       "    .dataframe thead th {\n",
       "        text-align: right;\n",
       "    }\n",
       "</style>\n",
       "<table border=\"1\" class=\"dataframe\">\n",
       "  <thead>\n",
       "    <tr style=\"text-align: right;\">\n",
       "      <th></th>\n",
       "      <th></th>\n",
       "      <th>rank</th>\n",
       "    </tr>\n",
       "    <tr>\n",
       "      <th>year</th>\n",
       "      <th>country_full</th>\n",
       "      <th></th>\n",
       "    </tr>\n",
       "  </thead>\n",
       "  <tbody>\n",
       "    <tr>\n",
       "      <th rowspan=\"5\" valign=\"top\">1993</th>\n",
       "      <th>Albania</th>\n",
       "      <td>92</td>\n",
       "    </tr>\n",
       "    <tr>\n",
       "      <th>Algeria</th>\n",
       "      <td>31</td>\n",
       "    </tr>\n",
       "    <tr>\n",
       "      <th>Angola</th>\n",
       "      <td>97</td>\n",
       "    </tr>\n",
       "    <tr>\n",
       "      <th>Antigua and Barbuda</th>\n",
       "      <td>127</td>\n",
       "    </tr>\n",
       "    <tr>\n",
       "      <th>Argentina</th>\n",
       "      <td>9</td>\n",
       "    </tr>\n",
       "    <tr>\n",
       "      <th>...</th>\n",
       "      <th>...</th>\n",
       "      <td>...</td>\n",
       "    </tr>\n",
       "    <tr>\n",
       "      <th rowspan=\"5\" valign=\"top\">2018</th>\n",
       "      <th>Vietnam</th>\n",
       "      <td>102</td>\n",
       "    </tr>\n",
       "    <tr>\n",
       "      <th>Wales</th>\n",
       "      <td>21</td>\n",
       "    </tr>\n",
       "    <tr>\n",
       "      <th>Yemen</th>\n",
       "      <td>133</td>\n",
       "    </tr>\n",
       "    <tr>\n",
       "      <th>Zambia</th>\n",
       "      <td>78</td>\n",
       "    </tr>\n",
       "    <tr>\n",
       "      <th>Zimbabwe</th>\n",
       "      <td>110</td>\n",
       "    </tr>\n",
       "  </tbody>\n",
       "</table>\n",
       "<p>5255 rows × 1 columns</p>\n",
       "</div>"
      ],
      "text/plain": [
       "                          rank\n",
       "year country_full             \n",
       "1993 Albania                92\n",
       "     Algeria                31\n",
       "     Angola                 97\n",
       "     Antigua and Barbuda   127\n",
       "     Argentina               9\n",
       "...                        ...\n",
       "2018 Vietnam               102\n",
       "     Wales                  21\n",
       "     Yemen                 133\n",
       "     Zambia                 78\n",
       "     Zimbabwe              110\n",
       "\n",
       "[5255 rows x 1 columns]"
      ]
     },
     "execution_count": 482,
     "metadata": {},
     "output_type": "execute_result"
    }
   ],
   "source": [
    "genRank = tmp.groupby(['year','country_full']).agg(lambda x : x.value_counts().index[0])\n",
    "genRank"
   ]
  },
  {
   "cell_type": "markdown",
   "metadata": {},
   "source": [
    "We will add a rank difference column to our main data set"
   ]
  },
  {
   "cell_type": "code",
   "execution_count": 483,
   "metadata": {},
   "outputs": [
    {
     "data": {
      "text/html": [
       "<div>\n",
       "<style scoped>\n",
       "    .dataframe tbody tr th:only-of-type {\n",
       "        vertical-align: middle;\n",
       "    }\n",
       "\n",
       "    .dataframe tbody tr th {\n",
       "        vertical-align: top;\n",
       "    }\n",
       "\n",
       "    .dataframe thead th {\n",
       "        text-align: right;\n",
       "    }\n",
       "</style>\n",
       "<table border=\"1\" class=\"dataframe\">\n",
       "  <thead>\n",
       "    <tr style=\"text-align: right;\">\n",
       "      <th></th>\n",
       "      <th></th>\n",
       "      <th>rank</th>\n",
       "    </tr>\n",
       "    <tr>\n",
       "      <th>year</th>\n",
       "      <th>country_full</th>\n",
       "      <th></th>\n",
       "    </tr>\n",
       "  </thead>\n",
       "  <tbody>\n",
       "    <tr>\n",
       "      <th rowspan=\"5\" valign=\"top\">1993</th>\n",
       "      <th>Albania</th>\n",
       "      <td>92</td>\n",
       "    </tr>\n",
       "    <tr>\n",
       "      <th>Algeria</th>\n",
       "      <td>31</td>\n",
       "    </tr>\n",
       "    <tr>\n",
       "      <th>Angola</th>\n",
       "      <td>97</td>\n",
       "    </tr>\n",
       "    <tr>\n",
       "      <th>Antigua and Barbuda</th>\n",
       "      <td>127</td>\n",
       "    </tr>\n",
       "    <tr>\n",
       "      <th>Argentina</th>\n",
       "      <td>9</td>\n",
       "    </tr>\n",
       "    <tr>\n",
       "      <th>...</th>\n",
       "      <th>...</th>\n",
       "      <td>...</td>\n",
       "    </tr>\n",
       "    <tr>\n",
       "      <th rowspan=\"5\" valign=\"top\">2018</th>\n",
       "      <th>Vietnam</th>\n",
       "      <td>102</td>\n",
       "    </tr>\n",
       "    <tr>\n",
       "      <th>Wales</th>\n",
       "      <td>21</td>\n",
       "    </tr>\n",
       "    <tr>\n",
       "      <th>Yemen</th>\n",
       "      <td>133</td>\n",
       "    </tr>\n",
       "    <tr>\n",
       "      <th>Zambia</th>\n",
       "      <td>78</td>\n",
       "    </tr>\n",
       "    <tr>\n",
       "      <th>Zimbabwe</th>\n",
       "      <td>110</td>\n",
       "    </tr>\n",
       "  </tbody>\n",
       "</table>\n",
       "<p>5255 rows × 1 columns</p>\n",
       "</div>"
      ],
      "text/plain": [
       "                          rank\n",
       "year country_full             \n",
       "1993 Albania                92\n",
       "     Algeria                31\n",
       "     Angola                 97\n",
       "     Antigua and Barbuda   127\n",
       "     Argentina               9\n",
       "...                        ...\n",
       "2018 Vietnam               102\n",
       "     Wales                  21\n",
       "     Yemen                 133\n",
       "     Zambia                 78\n",
       "     Zimbabwe              110\n",
       "\n",
       "[5255 rows x 1 columns]"
      ]
     },
     "execution_count": 483,
     "metadata": {},
     "output_type": "execute_result"
    }
   ],
   "source": [
    "genRank"
   ]
  },
  {
   "cell_type": "code",
   "execution_count": 484,
   "metadata": {},
   "outputs": [
    {
     "data": {
      "text/plain": [
       "1"
      ]
     },
     "execution_count": 484,
     "metadata": {},
     "output_type": "execute_result"
    }
   ],
   "source": [
    "t = genRank[genRank.index.get_level_values('country_full') == \"Germany\"]\n",
    "t.iloc[0].loc['rank']"
   ]
  },
  {
   "cell_type": "code",
   "execution_count": 485,
   "metadata": {},
   "outputs": [],
   "source": [
    "def rank(r,col):\n",
    "    try:\n",
    "        return genRank.loc[(r['year'],r[col])].loc['rank']\n",
    "        \n",
    "    except: \n",
    "        filt = genRank[genRank.index.get_level_values('country_full') == r[col]]\n",
    "        y = r['year']\n",
    "        for x in filt.iterrows():\n",
    "            if abs(x[0][0] - y) <= 3 :\n",
    "                return x[1]['rank']\n",
    "        return filt.iloc[0].loc['rank']\n",
    "        "
   ]
  },
  {
   "cell_type": "code",
   "execution_count": 486,
   "metadata": {},
   "outputs": [
    {
     "name": "stdout",
     "output_type": "stream",
     "text": [
      "47\n",
      "47\n",
      "47\n",
      "47\n",
      "47\n",
      "47\n",
      "205\n",
      "205\n",
      "59\n",
      "186\n",
      "47\n",
      "47\n",
      "47\n",
      "47\n",
      "47\n",
      "47\n",
      "47\n",
      "47\n",
      "205\n",
      "205\n"
     ]
    }
   ],
   "source": [
    "trainDF['rank_home'] = trainDF.apply(lambda r: rank(r,'home_team'), axis=1 )\n",
    "trainDF['rank_away'] = trainDF.apply(lambda r: rank(r,'away_team'), axis=1 )"
   ]
  },
  {
   "cell_type": "code",
   "execution_count": 487,
   "metadata": {},
   "outputs": [],
   "source": [
    "trainDF['rank_difference'] = trainDF['rank_home'] - trainDF['rank_away']"
   ]
  },
  {
   "cell_type": "code",
   "execution_count": 488,
   "metadata": {},
   "outputs": [
    {
     "data": {
      "text/html": [
       "<div>\n",
       "<style scoped>\n",
       "    .dataframe tbody tr th:only-of-type {\n",
       "        vertical-align: middle;\n",
       "    }\n",
       "\n",
       "    .dataframe tbody tr th {\n",
       "        vertical-align: top;\n",
       "    }\n",
       "\n",
       "    .dataframe thead th {\n",
       "        text-align: right;\n",
       "    }\n",
       "</style>\n",
       "<table border=\"1\" class=\"dataframe\">\n",
       "  <thead>\n",
       "    <tr style=\"text-align: right;\">\n",
       "      <th></th>\n",
       "      <th>home_team</th>\n",
       "      <th>away_team</th>\n",
       "      <th>neutral</th>\n",
       "      <th>home_result</th>\n",
       "      <th>rank_difference</th>\n",
       "    </tr>\n",
       "  </thead>\n",
       "  <tbody>\n",
       "    <tr>\n",
       "      <th>18667</th>\n",
       "      <td>Japan</td>\n",
       "      <td>Nigeria</td>\n",
       "      <td>True</td>\n",
       "      <td>-1</td>\n",
       "      <td>20</td>\n",
       "    </tr>\n",
       "    <tr>\n",
       "      <th>18668</th>\n",
       "      <td>Saudi Arabia</td>\n",
       "      <td>Mexico</td>\n",
       "      <td>False</td>\n",
       "      <td>-1</td>\n",
       "      <td>21</td>\n",
       "    </tr>\n",
       "    <tr>\n",
       "      <th>18669</th>\n",
       "      <td>Senegal</td>\n",
       "      <td>Tunisia</td>\n",
       "      <td>False</td>\n",
       "      <td>0</td>\n",
       "      <td>22</td>\n",
       "    </tr>\n",
       "    <tr>\n",
       "      <th>18677</th>\n",
       "      <td>Japan</td>\n",
       "      <td>Argentina</td>\n",
       "      <td>True</td>\n",
       "      <td>-1</td>\n",
       "      <td>26</td>\n",
       "    </tr>\n",
       "    <tr>\n",
       "      <th>18678</th>\n",
       "      <td>Saudi Arabia</td>\n",
       "      <td>Denmark</td>\n",
       "      <td>False</td>\n",
       "      <td>-1</td>\n",
       "      <td>15</td>\n",
       "    </tr>\n",
       "  </tbody>\n",
       "</table>\n",
       "</div>"
      ],
      "text/plain": [
       "          home_team  away_team  neutral home_result  rank_difference\n",
       "18667         Japan    Nigeria     True          -1               20\n",
       "18668  Saudi Arabia     Mexico    False          -1               21\n",
       "18669       Senegal    Tunisia    False           0               22\n",
       "18677         Japan  Argentina     True          -1               26\n",
       "18678  Saudi Arabia    Denmark    False          -1               15"
      ]
     },
     "execution_count": 488,
     "metadata": {},
     "output_type": "execute_result"
    }
   ],
   "source": [
    "trainDF = trainDF.drop(columns=['rank_home','rank_away','year'])\n",
    "trainDF.head()"
   ]
  },
  {
   "cell_type": "code",
   "execution_count": 489,
   "metadata": {},
   "outputs": [
    {
     "data": {
      "text/html": [
       "<div>\n",
       "<style scoped>\n",
       "    .dataframe tbody tr th:only-of-type {\n",
       "        vertical-align: middle;\n",
       "    }\n",
       "\n",
       "    .dataframe tbody tr th {\n",
       "        vertical-align: top;\n",
       "    }\n",
       "\n",
       "    .dataframe thead th {\n",
       "        text-align: right;\n",
       "    }\n",
       "</style>\n",
       "<table border=\"1\" class=\"dataframe\">\n",
       "  <thead>\n",
       "    <tr style=\"text-align: right;\">\n",
       "      <th></th>\n",
       "      <th>home_team</th>\n",
       "      <th>away_team</th>\n",
       "      <th>neutral</th>\n",
       "      <th>home_result</th>\n",
       "      <th>rank_difference</th>\n",
       "    </tr>\n",
       "  </thead>\n",
       "  <tbody>\n",
       "    <tr>\n",
       "      <th>18667</th>\n",
       "      <td>Japan</td>\n",
       "      <td>Nigeria</td>\n",
       "      <td>1</td>\n",
       "      <td>-1</td>\n",
       "      <td>20</td>\n",
       "    </tr>\n",
       "    <tr>\n",
       "      <th>18668</th>\n",
       "      <td>Saudi Arabia</td>\n",
       "      <td>Mexico</td>\n",
       "      <td>0</td>\n",
       "      <td>-1</td>\n",
       "      <td>21</td>\n",
       "    </tr>\n",
       "    <tr>\n",
       "      <th>18669</th>\n",
       "      <td>Senegal</td>\n",
       "      <td>Tunisia</td>\n",
       "      <td>0</td>\n",
       "      <td>0</td>\n",
       "      <td>22</td>\n",
       "    </tr>\n",
       "    <tr>\n",
       "      <th>18677</th>\n",
       "      <td>Japan</td>\n",
       "      <td>Argentina</td>\n",
       "      <td>1</td>\n",
       "      <td>-1</td>\n",
       "      <td>26</td>\n",
       "    </tr>\n",
       "    <tr>\n",
       "      <th>18678</th>\n",
       "      <td>Saudi Arabia</td>\n",
       "      <td>Denmark</td>\n",
       "      <td>0</td>\n",
       "      <td>-1</td>\n",
       "      <td>15</td>\n",
       "    </tr>\n",
       "  </tbody>\n",
       "</table>\n",
       "</div>"
      ],
      "text/plain": [
       "          home_team  away_team  neutral home_result  rank_difference\n",
       "18667         Japan    Nigeria        1          -1               20\n",
       "18668  Saudi Arabia     Mexico        0          -1               21\n",
       "18669       Senegal    Tunisia        0           0               22\n",
       "18677         Japan  Argentina        1          -1               26\n",
       "18678  Saudi Arabia    Denmark        0          -1               15"
      ]
     },
     "execution_count": 489,
     "metadata": {},
     "output_type": "execute_result"
    }
   ],
   "source": [
    "trainDF['neutral'] = np.where(trainDF['neutral'] == True , 1 , 0)\n",
    "trainDF.head()"
   ]
  },
  {
   "cell_type": "code",
   "execution_count": 490,
   "metadata": {},
   "outputs": [],
   "source": [
    "trainDF = pd.get_dummies(trainDF,columns=['home_team','away_team'])"
   ]
  },
  {
   "cell_type": "markdown",
   "metadata": {},
   "source": [
    "## Model "
   ]
  },
  {
   "cell_type": "code",
   "execution_count": 491,
   "metadata": {},
   "outputs": [],
   "source": [
    "X = trainDF.drop(columns=['home_result'])\n",
    "Y = trainDF['home_result']"
   ]
  },
  {
   "cell_type": "code",
   "execution_count": 492,
   "metadata": {},
   "outputs": [],
   "source": [
    "from sklearn.preprocessing import StandardScaler\n",
    "cols = []\n",
    "for x in X:\n",
    "    cols.append(x)\n",
    "col_arr = np.array(cols)\n",
    "\n",
    "X = X.to_numpy()\n",
    "Y = Y.to_numpy()\n",
    "scaler = StandardScaler()\n",
    "X = scaler.fit_transform(X)"
   ]
  },
  {
   "cell_type": "code",
   "execution_count": 493,
   "metadata": {},
   "outputs": [],
   "source": [
    "X_train,X_test,Y_train,Y_test = train_test_split(X,Y,test_size=0.25)"
   ]
  },
  {
   "cell_type": "code",
   "execution_count": 658,
   "metadata": {},
   "outputs": [
    {
     "name": "stdout",
     "output_type": "stream",
     "text": [
      "Training accuracy = 63.53 %\n",
      "Test accuracy = 61.63 %\n"
     ]
    }
   ],
   "source": [
    "reg = LogisticRegressionCV(cv=3,max_iter=1000,multi_class='multinomial')\n",
    "reg.fit(X_train,Y_train)\n",
    "\n",
    "pred = reg.predict(X_test)\n",
    "score = reg.score(X_train,Y_train)\n",
    "print(\"Training accuracy = {} %\".format(round(score*100,2)))\n",
    "\n",
    "test_score = reg.score(X_test,Y_test)\n",
    "print(\"Test accuracy = {} %\".format(round(test_score*100,2)))"
   ]
  },
  {
   "cell_type": "markdown",
   "metadata": {},
   "source": [
    "## Simulation"
   ]
  },
  {
   "cell_type": "code",
   "execution_count": 619,
   "metadata": {},
   "outputs": [],
   "source": [
    "# Groups\n",
    "A = ['Russia', 'Saudi Arabia', 'Egypt', 'Uruguay']\n",
    "B = ['Portugal', 'Spain', 'Morocco', 'Iran']\n",
    "C = ['France', 'Australia', 'Peru', 'Denmark']\n",
    "D = ['Argentina', 'Iceland', 'Croatia', 'Nigeria']\n",
    "E = ['Brazil', 'Switzerland', 'Costa Rica', 'Serbia']\n",
    "F = ['Germany', 'Mexico', 'Sweden', 'South Korea']\n",
    "G = ['Belgium', 'Panama', 'Tunisia', 'England']\n",
    "H = ['Poland', 'Senegal', 'Colombia', 'Japan']"
   ]
  },
  {
   "cell_type": "code",
   "execution_count": 594,
   "metadata": {},
   "outputs": [],
   "source": [
    "def rank_wc(team):\n",
    "    try:\n",
    "        return genRank.loc[(2018,li[x])].loc['rank']\n",
    "\n",
    "    except: \n",
    "        filt = genRank[genRank.index.get_level_values('country_full') == team]\n",
    "        y = 2018\n",
    "        return filt.iloc[0].loc['rank']\n",
    "\n",
    "def sim_group(li):\n",
    "    results = [0,0,0,0]\n",
    "    for x in range(4):\n",
    "        for y in range(x+1,4):\n",
    "            home_team = \"home_team_\" +  li[x]\n",
    "            away_team = \"away_team_\"+ li[y]\n",
    "            neutral = True\n",
    "            if home_team == \"Russia\":\n",
    "                neutral = False\n",
    "            \n",
    "            home_rank = rank_wc(li[x])\n",
    "            away_rank = rank_wc(li[y])\n",
    "            diff = home_rank-away_rank\n",
    "            \n",
    "            conv_row = trainDF.drop(columns=['home_result']).iloc[1].copy()\n",
    "            \n",
    "            for i in conv_row.iteritems():\n",
    "                if (i[0] == 'neutral'):\n",
    "                    if (neutral == True):\n",
    "                        conv_row['neutral'] = 1\n",
    "                    else:\n",
    "                        conv_row['neutral'] = 0\n",
    "                elif (i[0] == 'rank_difference'):\n",
    "                    conv_row[i[0]] = diff\n",
    "                elif (i[0] == home_team):\n",
    "                    conv_row[i[0]] = 1\n",
    "                elif (i[0] == away_team):\n",
    "                    conv_row[i[0]] = 1\n",
    "                else:\n",
    "                    conv_row[i[0]] = 0\n",
    "                \n",
    "            res = reg.predict(np.array(conv_row).reshape(1,-1))\n",
    "            str_res = \"\"\n",
    "            if res[0] == '-1' : \n",
    "                str_res = li[y]\n",
    "                results[y] += 3\n",
    "            elif res[0] == '1':\n",
    "                str_res = li[x]\n",
    "                results[x] += 3\n",
    "            else:\n",
    "                str_res = \"draw\"\n",
    "                results[x] += 1\n",
    "                results[y] += 1\n",
    "                \n",
    "            if str_res != \"draw\":\n",
    "                print(\"{} vs {} : {} wins \".format(li[x],li[y],str_res))\n",
    "            else:\n",
    "                print(\"{} vs {} : draw\".format(li[x],li[y]))\n",
    "                \n",
    "    return results\n",
    "        \n",
    "            "
   ]
  },
  {
   "cell_type": "markdown",
   "metadata": {},
   "source": [
    "### Simulate Group A"
   ]
  },
  {
   "cell_type": "code",
   "execution_count": 605,
   "metadata": {},
   "outputs": [
    {
     "name": "stdout",
     "output_type": "stream",
     "text": [
      "Russia vs Saudi Arabia : Russia wins \n",
      "Russia vs Egypt : Russia wins \n",
      "Russia vs Uruguay : Russia wins \n",
      "Saudi Arabia vs Egypt : Egypt wins \n",
      "Saudi Arabia vs Uruguay : Uruguay wins \n",
      "Egypt vs Uruguay : Uruguay wins \n"
     ]
    }
   ],
   "source": [
    "g1 = sim_group(A)"
   ]
  },
  {
   "cell_type": "code",
   "execution_count": 606,
   "metadata": {},
   "outputs": [
    {
     "data": {
      "text/html": [
       "<div>\n",
       "<style scoped>\n",
       "    .dataframe tbody tr th:only-of-type {\n",
       "        vertical-align: middle;\n",
       "    }\n",
       "\n",
       "    .dataframe tbody tr th {\n",
       "        vertical-align: top;\n",
       "    }\n",
       "\n",
       "    .dataframe thead th {\n",
       "        text-align: right;\n",
       "    }\n",
       "</style>\n",
       "<table border=\"1\" class=\"dataframe\">\n",
       "  <thead>\n",
       "    <tr style=\"text-align: right;\">\n",
       "      <th></th>\n",
       "      <th>Points</th>\n",
       "    </tr>\n",
       "    <tr>\n",
       "      <th>Teams</th>\n",
       "      <th></th>\n",
       "    </tr>\n",
       "  </thead>\n",
       "  <tbody>\n",
       "    <tr>\n",
       "      <th>Russia</th>\n",
       "      <td>9</td>\n",
       "    </tr>\n",
       "    <tr>\n",
       "      <th>Uruguay</th>\n",
       "      <td>6</td>\n",
       "    </tr>\n",
       "    <tr>\n",
       "      <th>Egypt</th>\n",
       "      <td>3</td>\n",
       "    </tr>\n",
       "    <tr>\n",
       "      <th>Saudi Arabia</th>\n",
       "      <td>0</td>\n",
       "    </tr>\n",
       "  </tbody>\n",
       "</table>\n",
       "</div>"
      ],
      "text/plain": [
       "              Points\n",
       "Teams               \n",
       "Russia             9\n",
       "Uruguay            6\n",
       "Egypt              3\n",
       "Saudi Arabia       0"
      ]
     },
     "execution_count": 606,
     "metadata": {},
     "output_type": "execute_result"
    }
   ],
   "source": [
    "df = pd.DataFrame({\n",
    "    'Teams': A,\n",
    "    'Points': g1\n",
    "})\n",
    "df.sort_values(by=['Points'],ascending=False).set_index('Teams')"
   ]
  },
  {
   "cell_type": "markdown",
   "metadata": {},
   "source": [
    "### Simulate Group B"
   ]
  },
  {
   "cell_type": "code",
   "execution_count": 607,
   "metadata": {},
   "outputs": [
    {
     "name": "stdout",
     "output_type": "stream",
     "text": [
      "Portugal vs Spain : Spain wins \n",
      "Portugal vs Morocco : Portugal wins \n",
      "Portugal vs Iran : Portugal wins \n",
      "Spain vs Morocco : Spain wins \n",
      "Spain vs Iran : Spain wins \n",
      "Morocco vs Iran : Morocco wins \n"
     ]
    }
   ],
   "source": [
    "g2 = sim_group(B)"
   ]
  },
  {
   "cell_type": "code",
   "execution_count": 609,
   "metadata": {},
   "outputs": [
    {
     "data": {
      "text/html": [
       "<div>\n",
       "<style scoped>\n",
       "    .dataframe tbody tr th:only-of-type {\n",
       "        vertical-align: middle;\n",
       "    }\n",
       "\n",
       "    .dataframe tbody tr th {\n",
       "        vertical-align: top;\n",
       "    }\n",
       "\n",
       "    .dataframe thead th {\n",
       "        text-align: right;\n",
       "    }\n",
       "</style>\n",
       "<table border=\"1\" class=\"dataframe\">\n",
       "  <thead>\n",
       "    <tr style=\"text-align: right;\">\n",
       "      <th></th>\n",
       "      <th>Points</th>\n",
       "    </tr>\n",
       "    <tr>\n",
       "      <th>Teams</th>\n",
       "      <th></th>\n",
       "    </tr>\n",
       "  </thead>\n",
       "  <tbody>\n",
       "    <tr>\n",
       "      <th>Spain</th>\n",
       "      <td>9</td>\n",
       "    </tr>\n",
       "    <tr>\n",
       "      <th>Portugal</th>\n",
       "      <td>6</td>\n",
       "    </tr>\n",
       "    <tr>\n",
       "      <th>Morocco</th>\n",
       "      <td>3</td>\n",
       "    </tr>\n",
       "    <tr>\n",
       "      <th>Iran</th>\n",
       "      <td>0</td>\n",
       "    </tr>\n",
       "  </tbody>\n",
       "</table>\n",
       "</div>"
      ],
      "text/plain": [
       "          Points\n",
       "Teams           \n",
       "Spain          9\n",
       "Portugal       6\n",
       "Morocco        3\n",
       "Iran           0"
      ]
     },
     "execution_count": 609,
     "metadata": {},
     "output_type": "execute_result"
    }
   ],
   "source": [
    "df2 = pd.DataFrame({\n",
    "    'Teams': B,\n",
    "    'Points': g2\n",
    "})\n",
    "df2.sort_values(by=['Points'],ascending=False).set_index('Teams')"
   ]
  },
  {
   "cell_type": "markdown",
   "metadata": {},
   "source": [
    "### Simulate Group C"
   ]
  },
  {
   "cell_type": "code",
   "execution_count": 612,
   "metadata": {},
   "outputs": [
    {
     "name": "stdout",
     "output_type": "stream",
     "text": [
      "France vs Australia : France wins \n",
      "France vs Peru : France wins \n",
      "France vs Denmark : Denmark wins \n",
      "Australia vs Peru : Australia wins \n",
      "Australia vs Denmark : Denmark wins \n",
      "Peru vs Denmark : Denmark wins \n"
     ]
    }
   ],
   "source": [
    "g3 = sim_group(C)"
   ]
  },
  {
   "cell_type": "code",
   "execution_count": 613,
   "metadata": {},
   "outputs": [
    {
     "data": {
      "text/html": [
       "<div>\n",
       "<style scoped>\n",
       "    .dataframe tbody tr th:only-of-type {\n",
       "        vertical-align: middle;\n",
       "    }\n",
       "\n",
       "    .dataframe tbody tr th {\n",
       "        vertical-align: top;\n",
       "    }\n",
       "\n",
       "    .dataframe thead th {\n",
       "        text-align: right;\n",
       "    }\n",
       "</style>\n",
       "<table border=\"1\" class=\"dataframe\">\n",
       "  <thead>\n",
       "    <tr style=\"text-align: right;\">\n",
       "      <th></th>\n",
       "      <th>Points</th>\n",
       "    </tr>\n",
       "    <tr>\n",
       "      <th>Teams</th>\n",
       "      <th></th>\n",
       "    </tr>\n",
       "  </thead>\n",
       "  <tbody>\n",
       "    <tr>\n",
       "      <th>Denmark</th>\n",
       "      <td>9</td>\n",
       "    </tr>\n",
       "    <tr>\n",
       "      <th>France</th>\n",
       "      <td>6</td>\n",
       "    </tr>\n",
       "    <tr>\n",
       "      <th>Australia</th>\n",
       "      <td>3</td>\n",
       "    </tr>\n",
       "    <tr>\n",
       "      <th>Peru</th>\n",
       "      <td>0</td>\n",
       "    </tr>\n",
       "  </tbody>\n",
       "</table>\n",
       "</div>"
      ],
      "text/plain": [
       "           Points\n",
       "Teams            \n",
       "Denmark         9\n",
       "France          6\n",
       "Australia       3\n",
       "Peru            0"
      ]
     },
     "execution_count": 613,
     "metadata": {},
     "output_type": "execute_result"
    }
   ],
   "source": [
    "df3 = pd.DataFrame({\n",
    "    'Teams': C,\n",
    "    'Points': g3\n",
    "})\n",
    "df3.sort_values(by=['Points'],ascending=False).set_index('Teams')"
   ]
  },
  {
   "cell_type": "markdown",
   "metadata": {},
   "source": [
    "### Simulate Group D"
   ]
  },
  {
   "cell_type": "code",
   "execution_count": 614,
   "metadata": {},
   "outputs": [
    {
     "name": "stdout",
     "output_type": "stream",
     "text": [
      "Argentina vs Iceland : Argentina wins \n",
      "Argentina vs Croatia : Argentina wins \n",
      "Argentina vs Nigeria : Argentina wins \n",
      "Iceland vs Croatia : Iceland wins \n",
      "Iceland vs Nigeria : Nigeria wins \n",
      "Croatia vs Nigeria : Nigeria wins \n"
     ]
    }
   ],
   "source": [
    "g2 = sim_group(D)"
   ]
  },
  {
   "cell_type": "code",
   "execution_count": 615,
   "metadata": {},
   "outputs": [
    {
     "data": {
      "text/html": [
       "<div>\n",
       "<style scoped>\n",
       "    .dataframe tbody tr th:only-of-type {\n",
       "        vertical-align: middle;\n",
       "    }\n",
       "\n",
       "    .dataframe tbody tr th {\n",
       "        vertical-align: top;\n",
       "    }\n",
       "\n",
       "    .dataframe thead th {\n",
       "        text-align: right;\n",
       "    }\n",
       "</style>\n",
       "<table border=\"1\" class=\"dataframe\">\n",
       "  <thead>\n",
       "    <tr style=\"text-align: right;\">\n",
       "      <th></th>\n",
       "      <th>Points</th>\n",
       "    </tr>\n",
       "    <tr>\n",
       "      <th>Teams</th>\n",
       "      <th></th>\n",
       "    </tr>\n",
       "  </thead>\n",
       "  <tbody>\n",
       "    <tr>\n",
       "      <th>Argentina</th>\n",
       "      <td>9</td>\n",
       "    </tr>\n",
       "    <tr>\n",
       "      <th>Nigeria</th>\n",
       "      <td>6</td>\n",
       "    </tr>\n",
       "    <tr>\n",
       "      <th>Iceland</th>\n",
       "      <td>3</td>\n",
       "    </tr>\n",
       "    <tr>\n",
       "      <th>Croatia</th>\n",
       "      <td>0</td>\n",
       "    </tr>\n",
       "  </tbody>\n",
       "</table>\n",
       "</div>"
      ],
      "text/plain": [
       "           Points\n",
       "Teams            \n",
       "Argentina       9\n",
       "Nigeria         6\n",
       "Iceland         3\n",
       "Croatia         0"
      ]
     },
     "execution_count": 615,
     "metadata": {},
     "output_type": "execute_result"
    }
   ],
   "source": [
    "df2 = pd.DataFrame({\n",
    "    'Teams': D,\n",
    "    'Points': g2\n",
    "})\n",
    "df2.sort_values(by=['Points'],ascending=False).set_index('Teams')"
   ]
  },
  {
   "cell_type": "markdown",
   "metadata": {},
   "source": [
    "### Simulate Group E"
   ]
  },
  {
   "cell_type": "code",
   "execution_count": 616,
   "metadata": {},
   "outputs": [
    {
     "name": "stdout",
     "output_type": "stream",
     "text": [
      "Brazil vs Switzerland : Brazil wins \n",
      "Brazil vs Costa Rica : Brazil wins \n",
      "Brazil vs Serbia : Brazil wins \n",
      "Switzerland vs Costa Rica : Switzerland wins \n",
      "Switzerland vs Serbia : Switzerland wins \n",
      "Costa Rica vs Serbia : Costa Rica wins \n"
     ]
    }
   ],
   "source": [
    "g2 = sim_group(E)"
   ]
  },
  {
   "cell_type": "code",
   "execution_count": 617,
   "metadata": {},
   "outputs": [
    {
     "data": {
      "text/html": [
       "<div>\n",
       "<style scoped>\n",
       "    .dataframe tbody tr th:only-of-type {\n",
       "        vertical-align: middle;\n",
       "    }\n",
       "\n",
       "    .dataframe tbody tr th {\n",
       "        vertical-align: top;\n",
       "    }\n",
       "\n",
       "    .dataframe thead th {\n",
       "        text-align: right;\n",
       "    }\n",
       "</style>\n",
       "<table border=\"1\" class=\"dataframe\">\n",
       "  <thead>\n",
       "    <tr style=\"text-align: right;\">\n",
       "      <th></th>\n",
       "      <th>Points</th>\n",
       "    </tr>\n",
       "    <tr>\n",
       "      <th>Teams</th>\n",
       "      <th></th>\n",
       "    </tr>\n",
       "  </thead>\n",
       "  <tbody>\n",
       "    <tr>\n",
       "      <th>Brazil</th>\n",
       "      <td>9</td>\n",
       "    </tr>\n",
       "    <tr>\n",
       "      <th>Switzerland</th>\n",
       "      <td>6</td>\n",
       "    </tr>\n",
       "    <tr>\n",
       "      <th>Costa Rica</th>\n",
       "      <td>3</td>\n",
       "    </tr>\n",
       "    <tr>\n",
       "      <th>Serbia</th>\n",
       "      <td>0</td>\n",
       "    </tr>\n",
       "  </tbody>\n",
       "</table>\n",
       "</div>"
      ],
      "text/plain": [
       "             Points\n",
       "Teams              \n",
       "Brazil            9\n",
       "Switzerland       6\n",
       "Costa Rica        3\n",
       "Serbia            0"
      ]
     },
     "execution_count": 617,
     "metadata": {},
     "output_type": "execute_result"
    }
   ],
   "source": [
    "df2 = pd.DataFrame({\n",
    "    'Teams': E,\n",
    "    'Points': g2\n",
    "})\n",
    "df2.sort_values(by=['Points'],ascending=False).set_index('Teams')"
   ]
  },
  {
   "cell_type": "markdown",
   "metadata": {},
   "source": [
    "### Simulate Group F"
   ]
  },
  {
   "cell_type": "code",
   "execution_count": 620,
   "metadata": {},
   "outputs": [
    {
     "name": "stdout",
     "output_type": "stream",
     "text": [
      "Germany vs Mexico : Germany wins \n",
      "Germany vs Sweden : Germany wins \n",
      "Germany vs South Korea : Germany wins \n",
      "Mexico vs Sweden : Sweden wins \n",
      "Mexico vs South Korea : Mexico wins \n",
      "Sweden vs South Korea : Sweden wins \n"
     ]
    }
   ],
   "source": [
    "g2 = sim_group(F)"
   ]
  },
  {
   "cell_type": "code",
   "execution_count": 622,
   "metadata": {},
   "outputs": [
    {
     "data": {
      "text/html": [
       "<div>\n",
       "<style scoped>\n",
       "    .dataframe tbody tr th:only-of-type {\n",
       "        vertical-align: middle;\n",
       "    }\n",
       "\n",
       "    .dataframe tbody tr th {\n",
       "        vertical-align: top;\n",
       "    }\n",
       "\n",
       "    .dataframe thead th {\n",
       "        text-align: right;\n",
       "    }\n",
       "</style>\n",
       "<table border=\"1\" class=\"dataframe\">\n",
       "  <thead>\n",
       "    <tr style=\"text-align: right;\">\n",
       "      <th></th>\n",
       "      <th>Points</th>\n",
       "    </tr>\n",
       "    <tr>\n",
       "      <th>Teams</th>\n",
       "      <th></th>\n",
       "    </tr>\n",
       "  </thead>\n",
       "  <tbody>\n",
       "    <tr>\n",
       "      <th>Germany</th>\n",
       "      <td>9</td>\n",
       "    </tr>\n",
       "    <tr>\n",
       "      <th>Sweden</th>\n",
       "      <td>6</td>\n",
       "    </tr>\n",
       "    <tr>\n",
       "      <th>Mexico</th>\n",
       "      <td>3</td>\n",
       "    </tr>\n",
       "    <tr>\n",
       "      <th>South Korea</th>\n",
       "      <td>0</td>\n",
       "    </tr>\n",
       "  </tbody>\n",
       "</table>\n",
       "</div>"
      ],
      "text/plain": [
       "             Points\n",
       "Teams              \n",
       "Germany           9\n",
       "Sweden            6\n",
       "Mexico            3\n",
       "South Korea       0"
      ]
     },
     "execution_count": 622,
     "metadata": {},
     "output_type": "execute_result"
    }
   ],
   "source": [
    "df2 = pd.DataFrame({\n",
    "    'Teams': F,\n",
    "    'Points': g2\n",
    "})\n",
    "df2.sort_values(by=['Points'],ascending=False).set_index('Teams')"
   ]
  },
  {
   "cell_type": "markdown",
   "metadata": {},
   "source": [
    "### Simulate Group G"
   ]
  },
  {
   "cell_type": "code",
   "execution_count": 643,
   "metadata": {},
   "outputs": [
    {
     "name": "stdout",
     "output_type": "stream",
     "text": [
      "Belgium vs Panama : Belgium wins \n",
      "Belgium vs Tunisia : Belgium wins \n",
      "Belgium vs England : England wins \n",
      "Panama vs Tunisia : Tunisia wins \n",
      "Panama vs England : England wins \n",
      "Tunisia vs England : England wins \n"
     ]
    }
   ],
   "source": [
    "g2 = sim_group(G)"
   ]
  },
  {
   "cell_type": "code",
   "execution_count": 644,
   "metadata": {},
   "outputs": [
    {
     "data": {
      "text/html": [
       "<div>\n",
       "<style scoped>\n",
       "    .dataframe tbody tr th:only-of-type {\n",
       "        vertical-align: middle;\n",
       "    }\n",
       "\n",
       "    .dataframe tbody tr th {\n",
       "        vertical-align: top;\n",
       "    }\n",
       "\n",
       "    .dataframe thead th {\n",
       "        text-align: right;\n",
       "    }\n",
       "</style>\n",
       "<table border=\"1\" class=\"dataframe\">\n",
       "  <thead>\n",
       "    <tr style=\"text-align: right;\">\n",
       "      <th></th>\n",
       "      <th>Points</th>\n",
       "    </tr>\n",
       "    <tr>\n",
       "      <th>Teams</th>\n",
       "      <th></th>\n",
       "    </tr>\n",
       "  </thead>\n",
       "  <tbody>\n",
       "    <tr>\n",
       "      <th>England</th>\n",
       "      <td>9</td>\n",
       "    </tr>\n",
       "    <tr>\n",
       "      <th>Belgium</th>\n",
       "      <td>6</td>\n",
       "    </tr>\n",
       "    <tr>\n",
       "      <th>Tunisia</th>\n",
       "      <td>3</td>\n",
       "    </tr>\n",
       "    <tr>\n",
       "      <th>Panama</th>\n",
       "      <td>0</td>\n",
       "    </tr>\n",
       "  </tbody>\n",
       "</table>\n",
       "</div>"
      ],
      "text/plain": [
       "         Points\n",
       "Teams          \n",
       "England       9\n",
       "Belgium       6\n",
       "Tunisia       3\n",
       "Panama        0"
      ]
     },
     "execution_count": 644,
     "metadata": {},
     "output_type": "execute_result"
    }
   ],
   "source": [
    "df2 = pd.DataFrame({\n",
    "    'Teams': G,\n",
    "    'Points': g2\n",
    "})\n",
    "df2.sort_values(by=['Points'],ascending=False).set_index('Teams')"
   ]
  },
  {
   "cell_type": "markdown",
   "metadata": {},
   "source": [
    "### Simulate Group H"
   ]
  },
  {
   "cell_type": "code",
   "execution_count": 623,
   "metadata": {},
   "outputs": [
    {
     "name": "stdout",
     "output_type": "stream",
     "text": [
      "Poland vs Senegal : Poland wins \n",
      "Poland vs Colombia : Colombia wins \n",
      "Poland vs Japan : Poland wins \n",
      "Senegal vs Colombia : Colombia wins \n",
      "Senegal vs Japan : Japan wins \n",
      "Colombia vs Japan : Colombia wins \n"
     ]
    }
   ],
   "source": [
    "g2 = sim_group(H)"
   ]
  },
  {
   "cell_type": "code",
   "execution_count": 624,
   "metadata": {},
   "outputs": [
    {
     "data": {
      "text/html": [
       "<div>\n",
       "<style scoped>\n",
       "    .dataframe tbody tr th:only-of-type {\n",
       "        vertical-align: middle;\n",
       "    }\n",
       "\n",
       "    .dataframe tbody tr th {\n",
       "        vertical-align: top;\n",
       "    }\n",
       "\n",
       "    .dataframe thead th {\n",
       "        text-align: right;\n",
       "    }\n",
       "</style>\n",
       "<table border=\"1\" class=\"dataframe\">\n",
       "  <thead>\n",
       "    <tr style=\"text-align: right;\">\n",
       "      <th></th>\n",
       "      <th>Points</th>\n",
       "    </tr>\n",
       "    <tr>\n",
       "      <th>Teams</th>\n",
       "      <th></th>\n",
       "    </tr>\n",
       "  </thead>\n",
       "  <tbody>\n",
       "    <tr>\n",
       "      <th>Colombia</th>\n",
       "      <td>9</td>\n",
       "    </tr>\n",
       "    <tr>\n",
       "      <th>Poland</th>\n",
       "      <td>6</td>\n",
       "    </tr>\n",
       "    <tr>\n",
       "      <th>Japan</th>\n",
       "      <td>3</td>\n",
       "    </tr>\n",
       "    <tr>\n",
       "      <th>Senegal</th>\n",
       "      <td>0</td>\n",
       "    </tr>\n",
       "  </tbody>\n",
       "</table>\n",
       "</div>"
      ],
      "text/plain": [
       "          Points\n",
       "Teams           \n",
       "Colombia       9\n",
       "Poland         6\n",
       "Japan          3\n",
       "Senegal        0"
      ]
     },
     "execution_count": 624,
     "metadata": {},
     "output_type": "execute_result"
    }
   ],
   "source": [
    "df2 = pd.DataFrame({\n",
    "    'Teams': H,\n",
    "    'Points': g2\n",
    "})\n",
    "df2.sort_values(by=['Points'],ascending=False).set_index('Teams')"
   ]
  },
  {
   "cell_type": "markdown",
   "metadata": {},
   "source": [
    "### Round of 16"
   ]
  },
  {
   "cell_type": "code",
   "execution_count": 640,
   "metadata": {},
   "outputs": [],
   "source": [
    "def sim_ko(li):\n",
    "    results = [0,0]\n",
    "    home_team = \"home_team_\" +  li[0]\n",
    "    away_team = \"away_team_\"+ li[1]\n",
    "    neutral = True\n",
    "    if li[0] == \"Russia\":\n",
    "        neutral = False\n",
    "\n",
    "    home_rank = rank_wc(li[0])\n",
    "    away_rank = rank_wc(li[1])\n",
    "    diff = home_rank-away_rank\n",
    "\n",
    "    conv_row = trainDF.drop(columns=['home_result']).iloc[1].copy()\n",
    "\n",
    "    for i in conv_row.iteritems():\n",
    "        if (i[0] == 'neutral'):\n",
    "            if (neutral == True):\n",
    "                conv_row['neutral'] = 1\n",
    "            else:\n",
    "                conv_row['neutral'] = 0\n",
    "        elif (i[0] == 'rank_difference'):\n",
    "            conv_row[i[0]] = diff\n",
    "        elif (i[0] == home_team):\n",
    "            conv_row[i[0]] = 1\n",
    "        elif (i[0] == away_team):\n",
    "            conv_row[i[0]] = 1\n",
    "        else:\n",
    "            conv_row[i[0]] = 0\n",
    "\n",
    "    res = reg.predict_proba(np.array(conv_row).reshape(1,-1))\n",
    "    res = res[0]\n",
    "    str_res = \"\"\n",
    "    if res[0] > res[2]:\n",
    "        str_res = li[1]\n",
    "    else:\n",
    "        str_res = li[0]\n",
    "    \n",
    "    print(\"{} vs {} : {} wins \".format(li[0],li[1],str_res))\n",
    "                \n",
    "        "
   ]
  },
  {
   "cell_type": "code",
   "execution_count": 647,
   "metadata": {},
   "outputs": [],
   "source": [
    "k1 = ['Russia','Colombia']\n",
    "k2 = ['Uruguay','Belgium']\n",
    "k3 = ['Spain','Sweden']\n",
    "k4 = ['Portugal','Germany']\n",
    "k5 = ['Denmark','Switzerland']\n",
    "k6 = ['France','Brazil']\n",
    "k7 = ['Argentina','Nigeria']\n",
    "k8 = ['England','Poland']\n",
    "knockouts = [k1,k2,k3,k4,k5,k6,k7,k8]"
   ]
  },
  {
   "cell_type": "code",
   "execution_count": 648,
   "metadata": {},
   "outputs": [
    {
     "name": "stdout",
     "output_type": "stream",
     "text": [
      "Russia vs Colombia : Russia wins \n",
      "Uruguay vs Belgium : Uruguay wins \n",
      "Spain vs Sweden : Spain wins \n",
      "Portugal vs Germany : Germany wins \n",
      "Denmark vs Switzerland : Denmark wins \n",
      "France vs Brazil : Brazil wins \n",
      "Argentina vs Nigeria : Argentina wins \n",
      "England vs Poland : England wins \n"
     ]
    }
   ],
   "source": [
    "for x in knockouts:\n",
    "    sim_ko(x)"
   ]
  },
  {
   "cell_type": "markdown",
   "metadata": {},
   "source": [
    "### Quarter Finals"
   ]
  },
  {
   "cell_type": "code",
   "execution_count": 651,
   "metadata": {},
   "outputs": [],
   "source": [
    "q1 = ['Russia','Argentina']\n",
    "q2 = ['England','Uruguay']\n",
    "q3 = ['Spain','Brazil']\n",
    "q4 = ['Germany','Denmark']\n",
    "quart = [q1,q2,q3,q4]"
   ]
  },
  {
   "cell_type": "code",
   "execution_count": 652,
   "metadata": {},
   "outputs": [
    {
     "name": "stdout",
     "output_type": "stream",
     "text": [
      "Russia vs Argentina : Argentina wins \n",
      "England vs Uruguay : England wins \n",
      "Spain vs Brazil : Brazil wins \n",
      "Germany vs Denmark : Germany wins \n"
     ]
    }
   ],
   "source": [
    "for x in quart:\n",
    "    sim_ko(x)"
   ]
  },
  {
   "cell_type": "markdown",
   "metadata": {},
   "source": [
    "### Semi Finals"
   ]
  },
  {
   "cell_type": "code",
   "execution_count": 653,
   "metadata": {},
   "outputs": [],
   "source": [
    "s1 = ['Argentina','Germany']\n",
    "s2 = ['England','Brazil']\n",
    "semi = [s1,s2]    "
   ]
  },
  {
   "cell_type": "code",
   "execution_count": 655,
   "metadata": {},
   "outputs": [
    {
     "name": "stdout",
     "output_type": "stream",
     "text": [
      "Argentina vs Germany : Germany wins \n",
      "England vs Brazil : Brazil wins \n"
     ]
    }
   ],
   "source": [
    "sim_ko(['Germany','Brazil'])for x in semi: \n",
    "    sim_ko(x)"
   ]
  },
  {
   "cell_type": "markdown",
   "metadata": {},
   "source": [
    "### 3rd / 4th Place"
   ]
  },
  {
   "cell_type": "code",
   "execution_count": 659,
   "metadata": {},
   "outputs": [
    {
     "name": "stdout",
     "output_type": "stream",
     "text": [
      "Argentina vs England : Argentina wins \n"
     ]
    }
   ],
   "source": [
    "sim_ko(['Argentina','England'])"
   ]
  },
  {
   "cell_type": "markdown",
   "metadata": {},
   "source": [
    "### Finals"
   ]
  },
  {
   "cell_type": "code",
   "execution_count": 656,
   "metadata": {},
   "outputs": [
    {
     "name": "stdout",
     "output_type": "stream",
     "text": [
      "Germany vs Brazil : Germany wins \n"
     ]
    }
   ],
   "source": [
    "sim_ko(['Germany','Brazil'])"
   ]
  }
 ],
 "metadata": {
  "kernelspec": {
   "display_name": "Python 3",
   "language": "python",
   "name": "python3"
  },
  "language_info": {
   "codemirror_mode": {
    "name": "ipython",
    "version": 3
   },
   "file_extension": ".py",
   "mimetype": "text/x-python",
   "name": "python",
   "nbconvert_exporter": "python",
   "pygments_lexer": "ipython3",
   "version": "3.8.5"
  },
  "varInspector": {
   "cols": {
    "lenName": 16,
    "lenType": 16,
    "lenVar": 40
   },
   "kernels_config": {
    "python": {
     "delete_cmd_postfix": "",
     "delete_cmd_prefix": "del ",
     "library": "var_list.py",
     "varRefreshCmd": "print(var_dic_list())"
    },
    "r": {
     "delete_cmd_postfix": ") ",
     "delete_cmd_prefix": "rm(",
     "library": "var_list.r",
     "varRefreshCmd": "cat(var_dic_list()) "
    }
   },
   "types_to_exclude": [
    "module",
    "function",
    "builtin_function_or_method",
    "instance",
    "_Feature"
   ],
   "window_display": false
  }
 },
 "nbformat": 4,
 "nbformat_minor": 2
}
